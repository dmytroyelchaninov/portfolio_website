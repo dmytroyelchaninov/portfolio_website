{
 "cells": [
  {
   "cell_type": "code",
   "execution_count": 3,
   "metadata": {},
   "outputs": [
    {
     "name": "stdout",
     "output_type": "stream",
     "text": [
      "Decorating decorator\n",
      "Before: Executing function\n",
      "Function is running.\n",
      "After: Executing function\n"
     ]
    }
   ],
   "source": [
    "def log_message(message):\n",
    "    def decorator(func):\n",
    "        def wrapper(*args, **kwargs):\n",
    "            print(f\"Before: {message}\")\n",
    "            result = func(*args, **kwargs)\n",
    "            print(f\"After: {message}\")\n",
    "            return result\n",
    "        func.__name__ = wrapper.__name__\n",
    "        return wrapper\n",
    "    print(\"Decorating decorator\")\n",
    "    return decorator\n",
    "\n",
    "@log_message('Executing function')\n",
    "def some_function():\n",
    "    print(\"Function is running.\")\n",
    "\n",
    "some_function()"
   ]
  },
  {
   "cell_type": "code",
   "execution_count": null,
   "metadata": {},
   "outputs": [],
   "source": []
  }
 ],
 "metadata": {
  "kernelspec": {
   "display_name": "tensorflow",
   "language": "python",
   "name": "python3"
  },
  "language_info": {
   "codemirror_mode": {
    "name": "ipython",
    "version": 3
   },
   "file_extension": ".py",
   "mimetype": "text/x-python",
   "name": "python",
   "nbconvert_exporter": "python",
   "pygments_lexer": "ipython3",
   "version": "3.10.14"
  }
 },
 "nbformat": 4,
 "nbformat_minor": 2
}
